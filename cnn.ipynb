{
 "cells": [
  {
   "cell_type": "markdown",
   "metadata": {},
   "source": [
    "# Piloto de Detección de Grietas usando Telegram\n",
    "\n",
    "Autor: Gabriel San Martín Silva\n",
    "\n",
    "Contacto: g.sanmartin.silva@gmail.com"
   ]
  },
  {
   "cell_type": "code",
   "execution_count": 34,
   "metadata": {},
   "outputs": [],
   "source": [
    "# importar librerias\n",
    "import numpy as np\n",
    "import matplotlib.pyplot as plt\n",
    "import pandas as pd\n",
    "import time\n",
    "import tensorflow as tf \n",
    "from tensorflow.keras import layers\n",
    "import os\n",
    "import matplotlib.pyplot as plt\n",
    "import numpy as np\n",
    "import time\n",
    "from sklearn.model_selection import train_test_split\n",
    "from sklearn.metrics import accuracy_score\n",
    "from sklearn.metrics import recall_score\n",
    "from sklearn.metrics import balanced_accuracy_score\n",
    "from sklearn.metrics import classification_report\n",
    "from sklearn.metrics import precision_score\n",
    "from sklearn.metrics import confusion_matrix\n",
    "import glob\n",
    "import numpy as npx\n",
    "import matplotlib.pyplot as plt\n",
    "from tensorflow.keras.preprocessing.image import ImageDataGenerator, load_img, img_to_array, array_to_img\n"
   ]
  },
  {
   "cell_type": "markdown",
   "metadata": {},
   "source": [
    "## Lectura y preprocesamiento de los datos"
   ]
  },
  {
   "cell_type": "code",
   "execution_count": 35,
   "metadata": {},
   "outputs": [],
   "source": [
    "# Función que carga las imagenes y asigna la etiqueta en función al nombre de la imagen.\n",
    "# Input: ruta de la carpeta que contiene imagenes.\n",
    "# Output: dos numpy arrays, uno para las imagenes y otro para las etiquetas.\n",
    "\n",
    "def Load_files(folder):\n",
    "    print('\\nAnalizando {}'.format(folder))\n",
    "    # Read the image folder. glob.glob return a list in which the elements are the direction of the files in the folder.\n",
    "    files = glob.glob(folder+'/*')\n",
    "    print('Se encontraron {} imagenes'.format(len(files)))\n",
    "\n",
    "    # load_img: Loads an image into PIL format \n",
    "    # img_to_array: Converts a PIL Image instance to a Numpy array.\n",
    "    imgs = [img_to_array(load_img(img, target_size = (60,60),\n",
    "                                  color_mode = 'grayscale'), dtype='float32') for img in files]\n",
    "    # convert train_imgs from a list to an array\n",
    "    imgs = np.asarray(imgs)/255.\n",
    "    print(imgs.shape)\n",
    "\n",
    "    # recover labels. The label is in the file name and can be either undamaged or crack\n",
    "    labels = []\n",
    "    for file in files:\n",
    "        if 'undamaged' in file.lower():\n",
    "            labels.append(0)\n",
    "        elif 'crack' in file.lower():\n",
    "            labels.append(1)\n",
    "        else:\n",
    "            'ERROR!'\n",
    "            break\n",
    "    labels = np.asarray(labels)\n",
    "    print('Se hicieron {} labels'.format(len(labels)))\n",
    "    \n",
    "    return imgs, labels\n",
    "    \n"
   ]
  },
  {
   "cell_type": "code",
   "execution_count": 36,
   "metadata": {},
   "outputs": [
    {
     "name": "stdout",
     "output_type": "stream",
     "text": [
      "\n",
      "Analizando data/training_data\n",
      "Se encontraron 800 imagenes\n",
      "(800, 60, 60, 1)\n",
      "Se hicieron 800 labels\n",
      "\n",
      "Analizando data/test_data\n",
      "Se encontraron 399 imagenes\n",
      "(399, 60, 60, 1)\n",
      "Se hicieron 399 labels\n"
     ]
    }
   ],
   "source": [
    "# Usar la función para cargar los datos\n",
    "\n",
    "x_train, y_train = Load_files('data/training_data')\n",
    "x_test, y_test = Load_files('data/test_data')\n",
    "\n",
    "\n",
    "# crear set de validacion a partir de los datos de entrenamiento\n",
    "x_train, x_val, y_train, y_val = train_test_split(x_train, y_train, test_size=0.2, random_state=42)\n",
    "\n",
    "# Obtener datos de la imagen para montar la CNN\n",
    "H = x_train.shape[1]\n",
    "W = x_train.shape[2]\n",
    "C = x_train.shape[3]"
   ]
  },
  {
   "cell_type": "code",
   "execution_count": 37,
   "metadata": {},
   "outputs": [
    {
     "name": "stdout",
     "output_type": "stream",
     "text": [
      "Train: 50.0 % of class 0\n",
      "Test: 49.87468671679198 % of class 0\n"
     ]
    }
   ],
   "source": [
    "# Chequear el balance de las clases (siempre es importante!)\n",
    "\n",
    "print('Train: {} % of class 0'.format(np.mean(y_train)*100))\n",
    "print('Test: {} % of class 0'.format(np.mean(y_test)*100))"
   ]
  },
  {
   "cell_type": "markdown",
   "metadata": {},
   "source": [
    "## Montar la red convolucional\n",
    "\n",
    "Para este proyecto se usa una CNN relativamente simple de dos capas convolucionales y dos capas fully connected."
   ]
  },
  {
   "cell_type": "code",
   "execution_count": 38,
   "metadata": {},
   "outputs": [
    {
     "name": "stdout",
     "output_type": "stream",
     "text": [
      "Model: \"sequential_3\"\n",
      "_________________________________________________________________\n",
      "Layer (type)                 Output Shape              Param #   \n",
      "=================================================================\n",
      "conv2d_6 (Conv2D)            (None, 58, 58, 8)         80        \n",
      "_________________________________________________________________\n",
      "max_pooling2d_3 (MaxPooling2 (None, 29, 29, 8)         0         \n",
      "_________________________________________________________________\n",
      "conv2d_7 (Conv2D)            (None, 27, 27, 4)         292       \n",
      "_________________________________________________________________\n",
      "flatten_3 (Flatten)          (None, 2916)              0         \n",
      "_________________________________________________________________\n",
      "dense_9 (Dense)              (None, 64)                186688    \n",
      "_________________________________________________________________\n",
      "dense_10 (Dense)             (None, 32)                2080      \n",
      "_________________________________________________________________\n",
      "dense_11 (Dense)             (None, 1)                 33        \n",
      "=================================================================\n",
      "Total params: 189,173\n",
      "Trainable params: 189,173\n",
      "Non-trainable params: 0\n",
      "_________________________________________________________________\n",
      "None\n"
     ]
    }
   ],
   "source": [
    "model_name = 'CNN'\n",
    "#################### MODEL CNN ########################\n",
    "model = tf.keras.Sequential()\n",
    "model.add(layers.Conv2D(8, (3, 3), activation='relu', input_shape=(H, W, C)))\n",
    "model.add(layers.MaxPooling2D((2, 2)))\n",
    "model.add(layers.Conv2D(4, (3, 3), activation='relu'))\n",
    "model.add(layers.Flatten())\n",
    "model.add(layers.Dense(64, activation='relu'))\n",
    "model.add(layers.Dense(32, activation='relu'))\n",
    "model.add(layers.Dense(1, activation='sigmoid'))\n",
    "\n",
    "model.compile(optimizer = 'adam', loss = 'binary_crossentropy',\n",
    "            metrics=['accuracy'])\n",
    "\n",
    "print(model.summary())\n",
    "\n",
    "####################################################"
   ]
  },
  {
   "cell_type": "markdown",
   "metadata": {},
   "source": [
    "## Entrenamiento de la red"
   ]
  },
  {
   "cell_type": "code",
   "execution_count": 39,
   "metadata": {},
   "outputs": [
    {
     "name": "stdout",
     "output_type": "stream",
     "text": [
      "Train on 640 samples, validate on 160 samples\n",
      "Epoch 1/30\n",
      "640/640 [==============================] - 1s 2ms/sample - loss: 0.6672 - accuracy: 0.7250 - val_loss: 0.5963 - val_accuracy: 0.9750\n",
      "Epoch 2/30\n",
      "640/640 [==============================] - 0s 291us/sample - loss: 0.4700 - accuracy: 0.9062 - val_loss: 0.3351 - val_accuracy: 0.9563\n",
      "Epoch 3/30\n",
      "640/640 [==============================] - 0s 295us/sample - loss: 0.2856 - accuracy: 0.9656 - val_loss: 0.2138 - val_accuracy: 0.9812\n",
      "Epoch 4/30\n",
      "640/640 [==============================] - 0s 288us/sample - loss: 0.1675 - accuracy: 0.9875 - val_loss: 0.1297 - val_accuracy: 0.9812\n",
      "Epoch 5/30\n",
      "640/640 [==============================] - 0s 290us/sample - loss: 0.1062 - accuracy: 0.9859 - val_loss: 0.0868 - val_accuracy: 0.9812\n",
      "Epoch 6/30\n",
      "640/640 [==============================] - 0s 307us/sample - loss: 0.0543 - accuracy: 0.9891 - val_loss: 0.0500 - val_accuracy: 0.9812\n",
      "Epoch 7/30\n",
      "640/640 [==============================] - 0s 293us/sample - loss: 0.0375 - accuracy: 0.9891 - val_loss: 0.0540 - val_accuracy: 0.9875\n",
      "Epoch 8/30\n",
      "640/640 [==============================] - 0s 309us/sample - loss: 0.0325 - accuracy: 0.9953 - val_loss: 0.0599 - val_accuracy: 0.9812\n",
      "Epoch 9/30\n",
      "640/640 [==============================] - 0s 287us/sample - loss: 0.0318 - accuracy: 0.9906 - val_loss: 0.0520 - val_accuracy: 0.9875\n",
      "Epoch 10/30\n",
      "640/640 [==============================] - 0s 312us/sample - loss: 0.0177 - accuracy: 0.9969 - val_loss: 0.0842 - val_accuracy: 0.9625\n",
      "Epoch 11/30\n",
      "640/640 [==============================] - 0s 304us/sample - loss: 0.0373 - accuracy: 0.9891 - val_loss: 0.0401 - val_accuracy: 0.9937\n",
      "Epoch 12/30\n",
      "640/640 [==============================] - 0s 290us/sample - loss: 0.0490 - accuracy: 0.9922 - val_loss: 0.0541 - val_accuracy: 0.9812\n",
      "Epoch 13/30\n",
      "640/640 [==============================] - 0s 305us/sample - loss: 0.0444 - accuracy: 0.9906 - val_loss: 0.0447 - val_accuracy: 0.9812\n",
      "Epoch 14/30\n",
      "640/640 [==============================] - 0s 274us/sample - loss: 0.0323 - accuracy: 0.9953 - val_loss: 0.0411 - val_accuracy: 0.9875\n",
      "Epoch 15/30\n",
      "640/640 [==============================] - 0s 293us/sample - loss: 0.0242 - accuracy: 0.9953 - val_loss: 0.0917 - val_accuracy: 0.9937\n",
      "Epoch 16/30\n",
      "640/640 [==============================] - 0s 290us/sample - loss: 0.0284 - accuracy: 0.9937 - val_loss: 0.0556 - val_accuracy: 0.9875\n",
      "Epoch 17/30\n",
      "640/640 [==============================] - 0s 295us/sample - loss: 0.0300 - accuracy: 0.9922 - val_loss: 0.0386 - val_accuracy: 0.9875\n",
      "Epoch 18/30\n",
      "640/640 [==============================] - 0s 279us/sample - loss: 0.0246 - accuracy: 0.9937 - val_loss: 0.0394 - val_accuracy: 0.9875\n",
      "Epoch 19/30\n",
      "640/640 [==============================] - 0s 285us/sample - loss: 0.0222 - accuracy: 0.9953 - val_loss: 0.0622 - val_accuracy: 0.9812\n",
      "Epoch 20/30\n",
      "640/640 [==============================] - 0s 302us/sample - loss: 0.0191 - accuracy: 0.9937 - val_loss: 0.0761 - val_accuracy: 0.9750\n",
      "Epoch 21/30\n",
      "640/640 [==============================] - 0s 266us/sample - loss: 0.0182 - accuracy: 0.9937 - val_loss: 0.1109 - val_accuracy: 0.9563\n",
      "Epoch 22/30\n",
      "640/640 [==============================] - 0s 293us/sample - loss: 0.0255 - accuracy: 0.9922 - val_loss: 0.3626 - val_accuracy: 0.9000\n",
      "Epoch 23/30\n",
      "640/640 [==============================] - 0s 295us/sample - loss: 0.0421 - accuracy: 0.9844 - val_loss: 0.0602 - val_accuracy: 0.9750\n",
      "Epoch 24/30\n",
      "640/640 [==============================] - 0s 274us/sample - loss: 0.0095 - accuracy: 0.9984 - val_loss: 0.2103 - val_accuracy: 0.9438\n",
      "Epoch 25/30\n",
      "640/640 [==============================] - 0s 279us/sample - loss: 0.0123 - accuracy: 0.9969 - val_loss: 0.0664 - val_accuracy: 0.9937\n",
      "Epoch 26/30\n",
      "640/640 [==============================] - 0s 293us/sample - loss: 0.0063 - accuracy: 0.9984 - val_loss: 0.0777 - val_accuracy: 0.9875\n",
      "Epoch 27/30\n",
      "640/640 [==============================] - 0s 290us/sample - loss: 0.0038 - accuracy: 1.0000 - val_loss: 0.0819 - val_accuracy: 0.9750\n",
      "Epoch 28/30\n",
      "640/640 [==============================] - 0s 282us/sample - loss: 0.0035 - accuracy: 1.0000 - val_loss: 0.0804 - val_accuracy: 0.9625\n",
      "Epoch 29/30\n",
      "640/640 [==============================] - 0s 295us/sample - loss: 0.0014 - accuracy: 1.0000 - val_loss: 0.1115 - val_accuracy: 0.9625\n",
      "Epoch 30/30\n",
      "640/640 [==============================] - 0s 291us/sample - loss: 4.2471e-04 - accuracy: 1.0000 - val_loss: 0.1086 - val_accuracy: 0.9875\n"
     ]
    }
   ],
   "source": [
    "start = time.time()\n",
    "\n",
    "\n",
    "\n",
    "model_history = model.fit(x_train, y_train,\n",
    "                          validation_data = (x_val, y_val),\n",
    "                          batch_size = 25, epochs = 30, verbose = 1)\n",
    "\n",
    "\n",
    "\n",
    "total_time = time.time()-start\n",
    "    \n",
    "   "
   ]
  },
  {
   "cell_type": "markdown",
   "metadata": {},
   "source": [
    "## Evaluación de los resultados sobre el test de entrenamiento y testeo para identificar un posible overfitting."
   ]
  },
  {
   "cell_type": "code",
   "execution_count": 40,
   "metadata": {},
   "outputs": [
    {
     "name": "stdout",
     "output_type": "stream",
     "text": [
      "\n",
      "TRAIN\n",
      "ACCURACY: 1.000 \n",
      "RECALL: 1.000 \n",
      "PRECISION: 1.000 \n",
      "\n",
      "TEST\n",
      "ACCURACY: 0.962 \n",
      "RECALL: 0.962 \n",
      "PRECISION: 0.963 \n",
      "\n",
      "TIME\n",
      "Time: 0.109  [min]\n"
     ]
    }
   ],
   "source": [
    " \n",
    "### PREDICTIONS\n",
    "y_pred_train = np.where(model.predict(x_train)>0.5, 1, 0)\n",
    "y_pred_test = np.where(model.predict(x_test)>0.5, 1, 0)\n",
    "\n",
    "\n",
    "\n",
    "# accuracy\n",
    "acc_train = accuracy_score(y_train, y_pred_train)\n",
    "acc_test = accuracy_score(y_test, y_pred_test)\n",
    "\n",
    "# balanced accuracy\n",
    "bacc_train = balanced_accuracy_score(y_train, y_pred_train)\n",
    "bacc_test = balanced_accuracy_score(y_test, y_pred_test)\n",
    "\n",
    "# precision\n",
    "precision_train = precision_score(y_train, y_pred_train, average='weighted')\n",
    "precision_test = precision_score(y_test, y_pred_test, average='weighted')\n",
    "\n",
    "# recall\n",
    "recall_train = recall_score(y_train, y_pred_train, average='weighted')\n",
    "recall_test = recall_score(y_test, y_pred_test, average='weighted')\n",
    "    \n",
    "# classification report\n",
    "report_train = classification_report(y_train, y_pred_train)\n",
    "report_test = classification_report(y_test, y_pred_test)\n",
    "\n",
    "\n",
    "\n",
    "print('\\nTRAIN')\n",
    "print('ACCURACY: {:.3f} '.format(acc_train))\n",
    "print('RECALL: {:.3f} '.format(recall_train))\n",
    "print('PRECISION: {:.3f} '.format(precision_train))\n",
    "\n",
    "print('\\nTEST')\n",
    "print('ACCURACY: {:.3f} '.format(acc_test))\n",
    "print('RECALL: {:.3f} '.format(recall_test))\n",
    "print('PRECISION: {:.3f} '.format(precision_test))\n",
    "\n",
    "print('\\nTIME')\n",
    "print('Time: {:.3f}  [min]'.format(total_time/60))"
   ]
  },
  {
   "cell_type": "code",
   "execution_count": 41,
   "metadata": {},
   "outputs": [
    {
     "data": {
      "image/png": "[encoded data removed]",
      "text/plain": [
       "<Figure size 1440x720 with 2 Axes>"
      ]
     },
     "metadata": {
      "needs_background": "light"
     },
     "output_type": "display_data"
    }
   ],
   "source": [
    "### Plots de las curvas de entrenamiento para el costo y el accuracy.\n",
    "loss = model_history.history['loss']\n",
    "val_loss = model_history.history['val_loss']\n",
    "acc = model_history.history['accuracy']\n",
    "val_acc = model_history.history['val_accuracy']\n",
    "\n",
    "plt.figure(figsize = (20,10))\n",
    "# plot1\n",
    "plt.subplot(2,1,1)\n",
    "plt.plot(loss, label = 'TRAIN')\n",
    "plt.plot(val_loss, label = 'VALIDATION')\n",
    "plt.legend()\n",
    "plt.grid()\n",
    "# plot2\n",
    "plt.subplot(2,1,2)\n",
    "plt.plot(acc, label = 'TRAIN')\n",
    "plt.plot(val_acc, label = 'VALIDATION')\n",
    "plt.legend()\n",
    "plt.grid()\n",
    "plt.show()\n",
    "\n",
    "\n"
   ]
  },
  {
   "cell_type": "markdown",
   "metadata": {},
   "source": [
    "## Guardar el modelo en formato `.h5`, para su lectura en TensorFlow"
   ]
  },
  {
   "cell_type": "code",
   "execution_count": 42,
   "metadata": {},
   "outputs": [],
   "source": [
    "model.save('models/model_cnn.h5')"
   ]
  },
  {
   "cell_type": "markdown",
   "metadata": {},
   "source": [
    "## Importar el modelo y ejecutarlo sobre una \"nueva imagen\" para verificar si se guardó bien y cuánto se demora en procesar."
   ]
  },
  {
   "cell_type": "code",
   "execution_count": 43,
   "metadata": {},
   "outputs": [],
   "source": [
    "from tensorflow import keras\n",
    "\n",
    "# Recreate the exact same model purely from the file\n",
    "new_model = keras.models.load_model('models/model_cnn.h5')"
   ]
  },
  {
   "cell_type": "code",
   "execution_count": 44,
   "metadata": {},
   "outputs": [
    {
     "name": "stdout",
     "output_type": "stream",
     "text": [
      "class [[1]]\n",
      "True class 1\n",
      "time: 0.10272598266601562 s\n"
     ]
    }
   ],
   "source": [
    "# lets see how much time it take to process one image from the test set\n",
    "\n",
    "start = time.time()\n",
    "pred = new_model.predict(x_test[0:1:,:,:,:])\n",
    "print('class {}'.format(np.where(pred>0.5, 1, 0)))\n",
    "print('True class {}'.format(y_test[0]))\n",
    "print('time: {} s'.format(time.time()-start))"
   ]
  },
  {
   "cell_type": "code",
   "execution_count": null,
   "metadata": {},
   "outputs": [],
   "source": []
  },
  {
   "cell_type": "code",
   "execution_count": null,
   "metadata": {},
   "outputs": [],
   "source": []
  },
  {
   "cell_type": "code",
   "execution_count": null,
   "metadata": {},
   "outputs": [],
   "source": []
  },
  {
   "cell_type": "code",
   "execution_count": null,
   "metadata": {},
   "outputs": [],
   "source": []
  },
  {
   "cell_type": "code",
   "execution_count": null,
   "metadata": {},
   "outputs": [],
   "source": []
  },
  {
   "cell_type": "code",
   "execution_count": null,
   "metadata": {},
   "outputs": [],
   "source": []
  },
  {
   "cell_type": "code",
   "execution_count": null,
   "metadata": {},
   "outputs": [],
   "source": []
  },
  {
   "cell_type": "code",
   "execution_count": null,
   "metadata": {},
   "outputs": [],
   "source": []
  },
  {
   "cell_type": "code",
   "execution_count": null,
   "metadata": {},
   "outputs": [],
   "source": []
  },
  {
   "cell_type": "code",
   "execution_count": null,
   "metadata": {},
   "outputs": [],
   "source": []
  },
  {
   "cell_type": "code",
   "execution_count": null,
   "metadata": {},
   "outputs": [],
   "source": []
  },
  {
   "cell_type": "code",
   "execution_count": null,
   "metadata": {},
   "outputs": [],
   "source": []
  },
  {
   "cell_type": "code",
   "execution_count": null,
   "metadata": {},
   "outputs": [],
   "source": []
  },
  {
   "cell_type": "code",
   "execution_count": null,
   "metadata": {},
   "outputs": [],
   "source": []
  },
  {
   "cell_type": "code",
   "execution_count": null,
   "metadata": {},
   "outputs": [],
   "source": []
  },
  {
   "cell_type": "code",
   "execution_count": null,
   "metadata": {},
   "outputs": [],
   "source": []
  },
  {
   "cell_type": "code",
   "execution_count": null,
   "metadata": {},
   "outputs": [],
   "source": []
  }
 ],
 "metadata": {
  "kernelspec": {
   "display_name": "Python 3",
   "language": "python",
   "name": "python3"
  },
  "language_info": {
   "codemirror_mode": {
    "name": "ipython",
    "version": 3
   },
   "file_extension": ".py",
   "mimetype": "text/x-python",
   "name": "python",
   "nbconvert_exporter": "python",
   "pygments_lexer": "ipython3",
   "version": "3.7.5"
  }
 },
 "nbformat": 4,
 "nbformat_minor": 4
}
