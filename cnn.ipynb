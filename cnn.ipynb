{
 "cells": [
  {
   "cell_type": "markdown",
   "metadata": {},
   "source": [
    "# Piloto de Detección de Grietas usando Telegram\n",
    "\n",
    "Autor: Gabriel San Martín Silva\n",
    "\n",
    "Contacto: g.sanmartin.silva@gmail.com"
   ]
  },
  {
   "cell_type": "code",
   "execution_count": 1,
   "metadata": {},
   "outputs": [],
   "source": [
    "# importar librerias\n",
    "import numpy as np\n",
    "import matplotlib.pyplot as plt\n",
    "import pandas as pd\n",
    "import time\n",
    "import tensorflow as tf \n",
    "from tensorflow.keras import layers\n",
    "import os\n",
    "import matplotlib.pyplot as plt\n",
    "import numpy as np\n",
    "import time\n",
    "from sklearn.model_selection import train_test_split\n",
    "from sklearn.metrics import accuracy_score\n",
    "from sklearn.metrics import recall_score\n",
    "from sklearn.metrics import balanced_accuracy_score\n",
    "from sklearn.metrics import classification_report\n",
    "from sklearn.metrics import precision_score\n",
    "from sklearn.metrics import confusion_matrix\n",
    "import glob\n",
    "import numpy as npx\n",
    "import matplotlib.pyplot as plt\n",
    "from tensorflow.keras.preprocessing.image import ImageDataGenerator, load_img, img_to_array, array_to_img\n"
   ]
  },
  {
   "cell_type": "markdown",
   "metadata": {},
   "source": [
    "## Lectura y preprocesamiento de los datos"
   ]
  },
  {
   "cell_type": "code",
   "execution_count": 2,
   "metadata": {},
   "outputs": [],
   "source": [
    "# Función que carga las imagenes y asigna la etiqueta en función al nombre de la imagen.\n",
    "# Input: ruta de la carpeta que contiene imagenes.\n",
    "# Output: dos numpy arrays, uno para las imagenes y otro para las etiquetas.\n",
    "\n",
    "def Load_files(folder):\n",
    "    print('\\nAnalizando {}'.format(folder))\n",
    "    # Read the image folder. glob.glob return a list in which the elements are the direction of the files in the folder.\n",
    "    files = glob.glob(folder+'/*')\n",
    "    print('Se encontraron {} imagenes'.format(len(files)))\n",
    "\n",
    "    # load_img: Loads an image into PIL format \n",
    "    # img_to_array: Converts a PIL Image instance to a Numpy array.\n",
    "    imgs = [img_to_array(load_img(img, target_size = (60,60),\n",
    "                                  color_mode = 'grayscale'), dtype='float32') for img in files]\n",
    "    # convert train_imgs from a list to an array\n",
    "    imgs = np.asarray(imgs)/255.\n",
    "    print(imgs.shape)\n",
    "\n",
    "    # recover labels. The label is in the file name and can be either undamaged or crack\n",
    "    labels = []\n",
    "    for file in files:\n",
    "        if 'undamaged' in file.lower():\n",
    "            labels.append(0)\n",
    "        elif 'crack' in file.lower():\n",
    "            labels.append(1)\n",
    "        else:\n",
    "            'ERROR!'\n",
    "            break\n",
    "    labels = np.asarray(labels)\n",
    "    print('Se hicieron {} labels'.format(len(labels)))\n",
    "    \n",
    "    return imgs, labels\n",
    "    \n"
   ]
  },
  {
   "cell_type": "code",
   "execution_count": 3,
   "metadata": {},
   "outputs": [
    {
     "name": "stdout",
     "output_type": "stream",
     "text": [
      "\n",
      "Analizando data/training_data\n",
      "Se encontraron 3000 imagenes\n",
      "(3000, 60, 60, 1)\n",
      "Se hicieron 3000 labels\n",
      "\n",
      "Analizando data/test_data\n",
      "Se encontraron 1000 imagenes\n",
      "(1000, 60, 60, 1)\n",
      "Se hicieron 1000 labels\n"
     ]
    }
   ],
   "source": [
    "# Usar la función para cargar los datos\n",
    "\n",
    "x_train, y_train = Load_files('data/training_data')\n",
    "x_test, y_test = Load_files('data/test_data')\n",
    "\n",
    "\n",
    "# crear set de validacion a partir de los datos de entrenamiento\n",
    "x_train, x_val, y_train, y_val = train_test_split(x_train, y_train, test_size=0.2, random_state=42)\n",
    "\n",
    "# Obtener datos de la imagen para montar la CNN\n",
    "H = x_train.shape[1]\n",
    "W = x_train.shape[2]\n",
    "C = x_train.shape[3]"
   ]
  },
  {
   "cell_type": "code",
   "execution_count": 4,
   "metadata": {},
   "outputs": [
    {
     "name": "stdout",
     "output_type": "stream",
     "text": [
      "Train: 49.45833333333333 % of class 0\n",
      "Test: 50.0 % of class 0\n"
     ]
    }
   ],
   "source": [
    "# Chequear el balance de las clases (siempre es importante!)\n",
    "\n",
    "print('Train: {} % of class 0'.format(np.mean(y_train)*100))\n",
    "print('Test: {} % of class 0'.format(np.mean(y_test)*100))"
   ]
  },
  {
   "cell_type": "markdown",
   "metadata": {},
   "source": [
    "## Montar la red convolucional\n",
    "\n",
    "Para este proyecto se usa una CNN relativamente simple de dos capas convolucionales y dos capas fully connected."
   ]
  },
  {
   "cell_type": "code",
   "execution_count": 5,
   "metadata": {},
   "outputs": [
    {
     "name": "stdout",
     "output_type": "stream",
     "text": [
      "Model: \"sequential\"\n",
      "_________________________________________________________________\n",
      "Layer (type)                 Output Shape              Param #   \n",
      "=================================================================\n",
      "conv2d (Conv2D)              (None, 58, 58, 8)         80        \n",
      "_________________________________________________________________\n",
      "max_pooling2d (MaxPooling2D) (None, 29, 29, 8)         0         \n",
      "_________________________________________________________________\n",
      "conv2d_1 (Conv2D)            (None, 27, 27, 4)         292       \n",
      "_________________________________________________________________\n",
      "flatten (Flatten)            (None, 2916)              0         \n",
      "_________________________________________________________________\n",
      "dense (Dense)                (None, 64)                186688    \n",
      "_________________________________________________________________\n",
      "dense_1 (Dense)              (None, 32)                2080      \n",
      "_________________________________________________________________\n",
      "dense_2 (Dense)              (None, 1)                 33        \n",
      "=================================================================\n",
      "Total params: 189,173\n",
      "Trainable params: 189,173\n",
      "Non-trainable params: 0\n",
      "_________________________________________________________________\n",
      "None\n"
     ]
    }
   ],
   "source": [
    "model_name = 'CNN'\n",
    "#################### MODEL CNN ########################\n",
    "model = tf.keras.Sequential()\n",
    "model.add(layers.Conv2D(8, (3, 3), activation='relu', input_shape=(H, W, C)))\n",
    "model.add(layers.MaxPooling2D((2, 2)))\n",
    "model.add(layers.Conv2D(4, (3, 3), activation='relu'))\n",
    "model.add(layers.Flatten())\n",
    "model.add(layers.Dense(64, activation='relu'))\n",
    "model.add(layers.Dense(32, activation='relu'))\n",
    "model.add(layers.Dense(1, activation='sigmoid'))\n",
    "\n",
    "model.compile(optimizer = 'adam', loss = 'binary_crossentropy',\n",
    "            metrics=['accuracy'])\n",
    "\n",
    "print(model.summary())\n",
    "\n",
    "####################################################"
   ]
  },
  {
   "cell_type": "markdown",
   "metadata": {},
   "source": [
    "## Entrenamiento de la red"
   ]
  },
  {
   "cell_type": "code",
   "execution_count": 6,
   "metadata": {},
   "outputs": [
    {
     "name": "stdout",
     "output_type": "stream",
     "text": [
      "Train on 2400 samples, validate on 600 samples\n",
      "Epoch 1/75\n",
      "2400/2400 [==============================] - 3s 1ms/sample - loss: 0.6922 - accuracy: 0.5200 - val_loss: 0.6907 - val_accuracy: 0.5200\n",
      "Epoch 2/75\n",
      "2400/2400 [==============================] - 0s 92us/sample - loss: 0.6857 - accuracy: 0.5163 - val_loss: 0.6684 - val_accuracy: 0.7667\n",
      "Epoch 3/75\n",
      "2400/2400 [==============================] - 0s 88us/sample - loss: 0.6306 - accuracy: 0.7279 - val_loss: 0.5681 - val_accuracy: 0.7700\n",
      "Epoch 4/75\n",
      "2400/2400 [==============================] - 0s 88us/sample - loss: 0.5303 - accuracy: 0.7588 - val_loss: 0.4443 - val_accuracy: 0.7983\n",
      "Epoch 5/75\n",
      "2400/2400 [==============================] - 0s 88us/sample - loss: 0.3953 - accuracy: 0.8333 - val_loss: 0.3033 - val_accuracy: 0.8867\n",
      "Epoch 6/75\n",
      "2400/2400 [==============================] - 0s 88us/sample - loss: 0.2709 - accuracy: 0.9150 - val_loss: 0.2310 - val_accuracy: 0.9350\n",
      "Epoch 7/75\n",
      "2400/2400 [==============================] - 0s 87us/sample - loss: 0.2042 - accuracy: 0.9362 - val_loss: 0.1989 - val_accuracy: 0.9483\n",
      "Epoch 8/75\n",
      "2400/2400 [==============================] - 0s 88us/sample - loss: 0.1536 - accuracy: 0.9529 - val_loss: 0.1499 - val_accuracy: 0.9500\n",
      "Epoch 9/75\n",
      "2400/2400 [==============================] - 0s 88us/sample - loss: 0.1251 - accuracy: 0.9600 - val_loss: 0.1327 - val_accuracy: 0.9567\n",
      "Epoch 10/75\n",
      "2400/2400 [==============================] - 0s 87us/sample - loss: 0.1088 - accuracy: 0.9638 - val_loss: 0.1620 - val_accuracy: 0.9483\n",
      "Epoch 11/75\n",
      "2400/2400 [==============================] - 0s 88us/sample - loss: 0.1005 - accuracy: 0.9654 - val_loss: 0.1173 - val_accuracy: 0.9667\n",
      "Epoch 12/75\n",
      "2400/2400 [==============================] - 0s 89us/sample - loss: 0.0947 - accuracy: 0.9675 - val_loss: 0.1101 - val_accuracy: 0.9650\n",
      "Epoch 13/75\n",
      "2400/2400 [==============================] - 0s 88us/sample - loss: 0.0852 - accuracy: 0.9729 - val_loss: 0.1079 - val_accuracy: 0.9583\n",
      "Epoch 14/75\n",
      "2400/2400 [==============================] - 0s 88us/sample - loss: 0.0844 - accuracy: 0.9758 - val_loss: 0.0966 - val_accuracy: 0.9683\n",
      "Epoch 15/75\n",
      "2400/2400 [==============================] - 0s 89us/sample - loss: 0.0728 - accuracy: 0.9771 - val_loss: 0.0964 - val_accuracy: 0.9683\n",
      "Epoch 16/75\n",
      "2400/2400 [==============================] - 0s 88us/sample - loss: 0.0738 - accuracy: 0.9800 - val_loss: 0.0895 - val_accuracy: 0.9700\n",
      "Epoch 17/75\n",
      "2400/2400 [==============================] - 0s 88us/sample - loss: 0.0643 - accuracy: 0.9812 - val_loss: 0.0901 - val_accuracy: 0.9700\n",
      "Epoch 18/75\n",
      "2400/2400 [==============================] - 0s 88us/sample - loss: 0.0626 - accuracy: 0.9821 - val_loss: 0.0862 - val_accuracy: 0.9717\n",
      "Epoch 19/75\n",
      "2400/2400 [==============================] - 0s 87us/sample - loss: 0.0588 - accuracy: 0.9829 - val_loss: 0.0935 - val_accuracy: 0.9700\n",
      "Epoch 20/75\n",
      "2400/2400 [==============================] - 0s 96us/sample - loss: 0.0576 - accuracy: 0.9812 - val_loss: 0.0953 - val_accuracy: 0.9700\n",
      "Epoch 21/75\n",
      "2400/2400 [==============================] - 0s 91us/sample - loss: 0.0539 - accuracy: 0.9837 - val_loss: 0.0933 - val_accuracy: 0.9717\n",
      "Epoch 22/75\n",
      "2400/2400 [==============================] - 0s 89us/sample - loss: 0.0545 - accuracy: 0.9837 - val_loss: 0.0936 - val_accuracy: 0.9733\n",
      "Epoch 23/75\n",
      "2400/2400 [==============================] - 0s 89us/sample - loss: 0.0516 - accuracy: 0.9846 - val_loss: 0.0880 - val_accuracy: 0.9733\n",
      "Epoch 24/75\n",
      "2400/2400 [==============================] - 0s 88us/sample - loss: 0.0479 - accuracy: 0.9854 - val_loss: 0.0858 - val_accuracy: 0.9733\n",
      "Epoch 25/75\n",
      "2400/2400 [==============================] - 0s 88us/sample - loss: 0.0479 - accuracy: 0.9867 - val_loss: 0.0820 - val_accuracy: 0.9717\n",
      "Epoch 26/75\n",
      "2400/2400 [==============================] - 0s 87us/sample - loss: 0.0603 - accuracy: 0.9804 - val_loss: 0.0829 - val_accuracy: 0.9700\n",
      "Epoch 27/75\n",
      "2400/2400 [==============================] - 0s 88us/sample - loss: 0.0563 - accuracy: 0.9808 - val_loss: 0.0873 - val_accuracy: 0.9717\n",
      "Epoch 28/75\n",
      "2400/2400 [==============================] - 0s 87us/sample - loss: 0.0475 - accuracy: 0.9867 - val_loss: 0.0749 - val_accuracy: 0.9717\n",
      "Epoch 29/75\n",
      "2400/2400 [==============================] - 0s 88us/sample - loss: 0.0403 - accuracy: 0.9879 - val_loss: 0.0851 - val_accuracy: 0.9733\n",
      "Epoch 30/75\n",
      "2400/2400 [==============================] - 0s 92us/sample - loss: 0.0387 - accuracy: 0.9896 - val_loss: 0.0805 - val_accuracy: 0.9750\n",
      "Epoch 31/75\n",
      "2400/2400 [==============================] - 0s 86us/sample - loss: 0.0362 - accuracy: 0.9887 - val_loss: 0.0819 - val_accuracy: 0.9750\n",
      "Epoch 32/75\n",
      "2400/2400 [==============================] - 0s 88us/sample - loss: 0.0340 - accuracy: 0.9883 - val_loss: 0.0777 - val_accuracy: 0.9733\n",
      "Epoch 33/75\n",
      "2400/2400 [==============================] - 0s 89us/sample - loss: 0.0327 - accuracy: 0.9908 - val_loss: 0.0782 - val_accuracy: 0.9733\n",
      "Epoch 34/75\n",
      "2400/2400 [==============================] - 0s 88us/sample - loss: 0.0302 - accuracy: 0.9900 - val_loss: 0.0818 - val_accuracy: 0.9717\n",
      "Epoch 35/75\n",
      "2400/2400 [==============================] - 0s 88us/sample - loss: 0.0302 - accuracy: 0.9912 - val_loss: 0.0847 - val_accuracy: 0.9767\n",
      "Epoch 36/75\n",
      "2400/2400 [==============================] - 0s 87us/sample - loss: 0.0299 - accuracy: 0.9917 - val_loss: 0.0784 - val_accuracy: 0.9733\n",
      "Epoch 37/75\n",
      "2400/2400 [==============================] - 0s 87us/sample - loss: 0.0283 - accuracy: 0.9921 - val_loss: 0.0767 - val_accuracy: 0.9750\n",
      "Epoch 38/75\n",
      "2400/2400 [==============================] - 0s 88us/sample - loss: 0.0255 - accuracy: 0.9929 - val_loss: 0.0807 - val_accuracy: 0.9750\n",
      "Epoch 39/75\n",
      "2400/2400 [==============================] - 0s 88us/sample - loss: 0.0233 - accuracy: 0.9942 - val_loss: 0.0751 - val_accuracy: 0.9750\n",
      "Epoch 40/75\n",
      "2400/2400 [==============================] - 0s 87us/sample - loss: 0.0210 - accuracy: 0.9942 - val_loss: 0.0853 - val_accuracy: 0.9633\n",
      "Epoch 41/75\n",
      "2400/2400 [==============================] - 0s 88us/sample - loss: 0.0199 - accuracy: 0.9946 - val_loss: 0.0766 - val_accuracy: 0.9733\n",
      "Epoch 42/75\n",
      "2400/2400 [==============================] - 0s 88us/sample - loss: 0.0168 - accuracy: 0.9954 - val_loss: 0.0760 - val_accuracy: 0.9700\n",
      "Epoch 43/75\n",
      "2400/2400 [==============================] - 0s 89us/sample - loss: 0.0161 - accuracy: 0.9967 - val_loss: 0.0761 - val_accuracy: 0.9717\n",
      "Epoch 44/75\n",
      "2400/2400 [==============================] - 0s 87us/sample - loss: 0.0217 - accuracy: 0.9921 - val_loss: 0.1095 - val_accuracy: 0.9633\n",
      "Epoch 45/75\n",
      "2400/2400 [==============================] - 0s 87us/sample - loss: 0.0297 - accuracy: 0.9925 - val_loss: 0.0928 - val_accuracy: 0.9650\n",
      "Epoch 46/75\n",
      "2400/2400 [==============================] - 0s 89us/sample - loss: 0.0239 - accuracy: 0.9929 - val_loss: 0.0714 - val_accuracy: 0.9733\n",
      "Epoch 47/75\n",
      "2400/2400 [==============================] - 0s 88us/sample - loss: 0.0154 - accuracy: 0.9971 - val_loss: 0.0741 - val_accuracy: 0.9750\n",
      "Epoch 48/75\n",
      "2400/2400 [==============================] - 0s 87us/sample - loss: 0.0137 - accuracy: 0.9962 - val_loss: 0.0848 - val_accuracy: 0.9767\n",
      "Epoch 49/75\n",
      "2400/2400 [==============================] - 0s 90us/sample - loss: 0.0145 - accuracy: 0.9950 - val_loss: 0.0783 - val_accuracy: 0.9783\n",
      "Epoch 50/75\n",
      "2400/2400 [==============================] - 0s 89us/sample - loss: 0.0136 - accuracy: 0.9962 - val_loss: 0.0739 - val_accuracy: 0.9750\n",
      "Epoch 51/75\n",
      "2400/2400 [==============================] - 0s 89us/sample - loss: 0.0108 - accuracy: 0.9967 - val_loss: 0.0825 - val_accuracy: 0.9683\n",
      "Epoch 52/75\n",
      "2400/2400 [==============================] - 0s 90us/sample - loss: 0.0129 - accuracy: 0.9958 - val_loss: 0.0734 - val_accuracy: 0.9750\n",
      "Epoch 53/75\n",
      "2400/2400 [==============================] - 0s 88us/sample - loss: 0.0095 - accuracy: 0.9971 - val_loss: 0.0889 - val_accuracy: 0.9783\n",
      "Epoch 54/75\n",
      "2400/2400 [==============================] - 0s 89us/sample - loss: 0.0103 - accuracy: 0.9962 - val_loss: 0.0722 - val_accuracy: 0.9783\n",
      "Epoch 55/75\n",
      "2400/2400 [==============================] - 0s 89us/sample - loss: 0.0065 - accuracy: 0.9979 - val_loss: 0.0851 - val_accuracy: 0.9717\n",
      "Epoch 56/75\n",
      "2400/2400 [==============================] - 0s 89us/sample - loss: 0.0074 - accuracy: 0.9975 - val_loss: 0.0880 - val_accuracy: 0.9733\n",
      "Epoch 57/75\n",
      "2400/2400 [==============================] - 0s 87us/sample - loss: 0.0067 - accuracy: 0.9983 - val_loss: 0.0840 - val_accuracy: 0.9733\n",
      "Epoch 58/75\n",
      "2400/2400 [==============================] - 0s 91us/sample - loss: 0.0060 - accuracy: 0.9979 - val_loss: 0.0872 - val_accuracy: 0.9733\n",
      "Epoch 59/75\n",
      "2400/2400 [==============================] - 0s 88us/sample - loss: 0.0068 - accuracy: 0.9975 - val_loss: 0.0774 - val_accuracy: 0.9733\n",
      "Epoch 60/75\n",
      "2400/2400 [==============================] - 0s 88us/sample - loss: 0.0046 - accuracy: 0.9983 - val_loss: 0.0896 - val_accuracy: 0.9733\n",
      "Epoch 61/75\n",
      "2400/2400 [==============================] - 0s 87us/sample - loss: 0.0052 - accuracy: 0.9979 - val_loss: 0.1036 - val_accuracy: 0.9733\n",
      "Epoch 62/75\n",
      "2400/2400 [==============================] - 0s 88us/sample - loss: 0.0065 - accuracy: 0.9987 - val_loss: 0.0825 - val_accuracy: 0.9733\n",
      "Epoch 63/75\n",
      "2400/2400 [==============================] - 0s 88us/sample - loss: 0.0051 - accuracy: 0.9987 - val_loss: 0.0800 - val_accuracy: 0.9800\n",
      "Epoch 64/75\n",
      "2400/2400 [==============================] - 0s 87us/sample - loss: 0.0056 - accuracy: 0.9987 - val_loss: 0.0759 - val_accuracy: 0.9783\n",
      "Epoch 65/75\n",
      "2400/2400 [==============================] - 0s 88us/sample - loss: 0.0034 - accuracy: 1.0000 - val_loss: 0.1023 - val_accuracy: 0.9733\n",
      "Epoch 66/75\n",
      "2400/2400 [==============================] - 0s 86us/sample - loss: 0.0058 - accuracy: 0.9979 - val_loss: 0.0792 - val_accuracy: 0.9767\n",
      "Epoch 67/75\n",
      "2400/2400 [==============================] - 0s 103us/sample - loss: 0.0043 - accuracy: 0.9996 - val_loss: 0.0758 - val_accuracy: 0.9733\n",
      "Epoch 68/75\n",
      "2400/2400 [==============================] - 0s 88us/sample - loss: 0.0026 - accuracy: 0.9996 - val_loss: 0.0936 - val_accuracy: 0.9733\n",
      "Epoch 69/75\n",
      "2400/2400 [==============================] - 0s 88us/sample - loss: 0.0032 - accuracy: 0.9996 - val_loss: 0.0961 - val_accuracy: 0.9733\n",
      "Epoch 70/75\n",
      "2400/2400 [==============================] - 0s 88us/sample - loss: 0.0055 - accuracy: 1.0000 - val_loss: 0.0798 - val_accuracy: 0.9767\n",
      "Epoch 71/75\n",
      "2400/2400 [==============================] - 0s 88us/sample - loss: 0.0038 - accuracy: 0.9983 - val_loss: 0.0925 - val_accuracy: 0.9800\n",
      "Epoch 72/75\n",
      "2400/2400 [==============================] - 0s 87us/sample - loss: 0.0021 - accuracy: 1.0000 - val_loss: 0.0818 - val_accuracy: 0.9733\n",
      "Epoch 73/75\n",
      "2400/2400 [==============================] - 0s 87us/sample - loss: 0.0018 - accuracy: 1.0000 - val_loss: 0.0822 - val_accuracy: 0.9733\n",
      "Epoch 74/75\n",
      "2400/2400 [==============================] - 0s 88us/sample - loss: 0.0018 - accuracy: 0.9996 - val_loss: 0.0864 - val_accuracy: 0.9767\n",
      "Epoch 75/75\n",
      "2400/2400 [==============================] - 0s 86us/sample - loss: 0.0016 - accuracy: 1.0000 - val_loss: 0.0862 - val_accuracy: 0.9733\n"
     ]
    }
   ],
   "source": [
    "start = time.time()\n",
    "\n",
    "\n",
    "\n",
    "model_history = model.fit(x_train, y_train,\n",
    "                          validation_data = (x_val, y_val),\n",
    "                          batch_size = 256, epochs = 75, verbose = 1)\n",
    "\n",
    "\n",
    "\n",
    "total_time = time.time()-start\n",
    "    \n",
    "   "
   ]
  },
  {
   "cell_type": "markdown",
   "metadata": {},
   "source": [
    "## Evaluación de los resultados sobre el test de entrenamiento y testeo para identificar un posible overfitting."
   ]
  },
  {
   "cell_type": "code",
   "execution_count": 7,
   "metadata": {},
   "outputs": [
    {
     "name": "stdout",
     "output_type": "stream",
     "text": [
      "\n",
      "TRAIN\n",
      "ACCURACY: 1.000 \n",
      "RECALL: 1.000 \n",
      "PRECISION: 1.000 \n",
      "\n",
      "TEST\n",
      "ACCURACY: 0.987 \n",
      "RECALL: 0.987 \n",
      "PRECISION: 0.987 \n",
      "\n",
      "TIME\n",
      "Time: 0.313  [min]\n"
     ]
    }
   ],
   "source": [
    " \n",
    "### PREDICTIONS\n",
    "y_pred_train = np.where(model.predict(x_train)>0.5, 1, 0)\n",
    "y_pred_test = np.where(model.predict(x_test)>0.5, 1, 0)\n",
    "\n",
    "\n",
    "\n",
    "# accuracy\n",
    "acc_train = accuracy_score(y_train, y_pred_train)\n",
    "acc_test = accuracy_score(y_test, y_pred_test)\n",
    "\n",
    "# balanced accuracy\n",
    "bacc_train = balanced_accuracy_score(y_train, y_pred_train)\n",
    "bacc_test = balanced_accuracy_score(y_test, y_pred_test)\n",
    "\n",
    "# precision\n",
    "precision_train = precision_score(y_train, y_pred_train, average='weighted')\n",
    "precision_test = precision_score(y_test, y_pred_test, average='weighted')\n",
    "\n",
    "# recall\n",
    "recall_train = recall_score(y_train, y_pred_train, average='weighted')\n",
    "recall_test = recall_score(y_test, y_pred_test, average='weighted')\n",
    "    \n",
    "# classification report\n",
    "report_train = classification_report(y_train, y_pred_train)\n",
    "report_test = classification_report(y_test, y_pred_test)\n",
    "\n",
    "\n",
    "\n",
    "print('\\nTRAIN')\n",
    "print('ACCURACY: {:.3f} '.format(acc_train))\n",
    "print('RECALL: {:.3f} '.format(recall_train))\n",
    "print('PRECISION: {:.3f} '.format(precision_train))\n",
    "\n",
    "print('\\nTEST')\n",
    "print('ACCURACY: {:.3f} '.format(acc_test))\n",
    "print('RECALL: {:.3f} '.format(recall_test))\n",
    "print('PRECISION: {:.3f} '.format(precision_test))\n",
    "\n",
    "print('\\nTIME')\n",
    "print('Time: {:.3f}  [min]'.format(total_time/60))"
   ]
  },
  {
   "cell_type": "code",
   "execution_count": 8,
   "metadata": {},
   "outputs": [
    {
     "data": {
      "image/png": "[encoded data removed]",
      "text/plain": [
       "<Figure size 1440x720 with 2 Axes>"
      ]
     },
     "metadata": {
      "needs_background": "light"
     },
     "output_type": "display_data"
    }
   ],
   "source": [
    "### Plots de las curvas de entrenamiento para el costo y el accuracy.\n",
    "loss = model_history.history['loss']\n",
    "val_loss = model_history.history['val_loss']\n",
    "acc = model_history.history['accuracy']\n",
    "val_acc = model_history.history['val_accuracy']\n",
    "\n",
    "plt.figure(figsize = (20,10))\n",
    "# plot1\n",
    "plt.subplot(2,1,1)\n",
    "plt.plot(loss, label = 'TRAIN')\n",
    "plt.plot(val_loss, label = 'VALIDATION')\n",
    "plt.legend()\n",
    "plt.grid()\n",
    "# plot2\n",
    "plt.subplot(2,1,2)\n",
    "plt.plot(acc, label = 'TRAIN')\n",
    "plt.plot(val_acc, label = 'VALIDATION')\n",
    "plt.legend()\n",
    "plt.grid()\n",
    "plt.show()\n",
    "\n",
    "\n"
   ]
  },
  {
   "cell_type": "markdown",
   "metadata": {},
   "source": [
    "## Guardar el modelo en formato `.h5`, para su lectura en TensorFlow"
   ]
  },
  {
   "cell_type": "code",
   "execution_count": 9,
   "metadata": {},
   "outputs": [],
   "source": [
    "model.save('models/model_cnn.h5')"
   ]
  },
  {
   "cell_type": "markdown",
   "metadata": {},
   "source": [
    "## Importar el modelo y ejecutarlo sobre una \"nueva imagen\" para verificar si se guardó bien y cuánto se demora en procesar."
   ]
  },
  {
   "cell_type": "code",
   "execution_count": 10,
   "metadata": {},
   "outputs": [],
   "source": [
    "from tensorflow import keras\n",
    "\n",
    "# Recreate the exact same model purely from the file\n",
    "new_model = keras.models.load_model('models/model_cnn.h5')"
   ]
  },
  {
   "cell_type": "code",
   "execution_count": 11,
   "metadata": {},
   "outputs": [
    {
     "name": "stdout",
     "output_type": "stream",
     "text": [
      "class [[1]]\n",
      "True class 1\n",
      "time: 0.14365100860595703 s\n"
     ]
    }
   ],
   "source": [
    "# lets see how much time it take to process one image from the test set\n",
    "\n",
    "start = time.time()\n",
    "pred = new_model.predict(x_test[0:1:,:,:,:])\n",
    "print('class {}'.format(np.where(pred>0.5, 1, 0)))\n",
    "print('True class {}'.format(y_test[0]))\n",
    "print('time: {} s'.format(time.time()-start))"
   ]
  },
  {
   "cell_type": "code",
   "execution_count": null,
   "metadata": {},
   "outputs": [],
   "source": []
  },
  {
   "cell_type": "code",
   "execution_count": null,
   "metadata": {},
   "outputs": [],
   "source": []
  },
  {
   "cell_type": "code",
   "execution_count": null,
   "metadata": {},
   "outputs": [],
   "source": []
  },
  {
   "cell_type": "code",
   "execution_count": null,
   "metadata": {},
   "outputs": [],
   "source": []
  },
  {
   "cell_type": "code",
   "execution_count": null,
   "metadata": {},
   "outputs": [],
   "source": []
  },
  {
   "cell_type": "code",
   "execution_count": null,
   "metadata": {},
   "outputs": [],
   "source": []
  },
  {
   "cell_type": "code",
   "execution_count": null,
   "metadata": {},
   "outputs": [],
   "source": []
  },
  {
   "cell_type": "code",
   "execution_count": null,
   "metadata": {},
   "outputs": [],
   "source": []
  },
  {
   "cell_type": "code",
   "execution_count": null,
   "metadata": {},
   "outputs": [],
   "source": []
  },
  {
   "cell_type": "code",
   "execution_count": null,
   "metadata": {},
   "outputs": [],
   "source": []
  },
  {
   "cell_type": "code",
   "execution_count": null,
   "metadata": {},
   "outputs": [],
   "source": []
  },
  {
   "cell_type": "code",
   "execution_count": null,
   "metadata": {},
   "outputs": [],
   "source": []
  },
  {
   "cell_type": "code",
   "execution_count": null,
   "metadata": {},
   "outputs": [],
   "source": []
  },
  {
   "cell_type": "code",
   "execution_count": null,
   "metadata": {},
   "outputs": [],
   "source": []
  },
  {
   "cell_type": "code",
   "execution_count": null,
   "metadata": {},
   "outputs": [],
   "source": []
  },
  {
   "cell_type": "code",
   "execution_count": null,
   "metadata": {},
   "outputs": [],
   "source": []
  },
  {
   "cell_type": "code",
   "execution_count": null,
   "metadata": {},
   "outputs": [],
   "source": []
  }
 ],
 "metadata": {
  "kernelspec": {
   "display_name": "Python 3",
   "language": "python",
   "name": "python3"
  },
  "language_info": {
   "codemirror_mode": {
    "name": "ipython",
    "version": 3
   },
   "file_extension": ".py",
   "mimetype": "text/x-python",
   "name": "python",
   "nbconvert_exporter": "python",
   "pygments_lexer": "ipython3",
   "version": "3.7.5"
  }
 },
 "nbformat": 4,
 "nbformat_minor": 4
}
